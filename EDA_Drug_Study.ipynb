{
 "cells": [
  {
   "cell_type": "code",
   "execution_count": 1,
   "metadata": {},
   "outputs": [
    {
     "name": "stdout",
     "output_type": "stream",
     "text": [
      "Collecting sweetviz\n",
      "\u001b[?25l  Downloading https://files.pythonhosted.org/packages/58/30/739fc13d56c8e0529f9fb734252141ff7f0c93afaa83fb951445e0bfcf8e/sweetviz-1.0a8-py3-none-any.whl (323kB)\n",
      "\u001b[K     |████████████████████████████████| 327kB 3.1MB/s eta 0:00:01\n",
      "\u001b[?25hCollecting jinja2>=2.11.1 (from sweetviz)\n",
      "  Using cached https://files.pythonhosted.org/packages/30/9e/f663a2aa66a09d838042ae1a2c5659828bb9b41ea3a6efa20a20fd92b121/Jinja2-2.11.2-py2.py3-none-any.whl\n",
      "Requirement already satisfied: numpy>=1.16.0 in /Users/harmeetkaur/opt/anaconda3/lib/python3.7/site-packages (from sweetviz) (1.17.2)\n",
      "Collecting tqdm>=4.43.0 (from sweetviz)\n",
      "\u001b[?25l  Downloading https://files.pythonhosted.org/packages/af/88/7b0ea5fa8192d1733dea459a9e3059afc87819cb4072c43263f2ec7ab768/tqdm-4.48.0-py2.py3-none-any.whl (67kB)\n",
      "\u001b[K     |████████████████████████████████| 71kB 4.0MB/s eta 0:00:01\n",
      "\u001b[?25hRequirement already satisfied: matplotlib>=3.1.3 in /Users/harmeetkaur/opt/anaconda3/lib/python3.7/site-packages (from sweetviz) (3.1.3)\n",
      "Collecting importlib-resources>=1.2.0 (from sweetviz)\n",
      "  Downloading https://files.pythonhosted.org/packages/ba/03/0f9595c0c2ef12590877f3c47e5f579759ce5caf817f8256d5dcbd8a1177/importlib_resources-3.0.0-py2.py3-none-any.whl\n",
      "Collecting scipy>=1.3.2 (from sweetviz)\n",
      "\u001b[?25l  Downloading https://files.pythonhosted.org/packages/e3/e9/2141008f9f691a40951dd732a0eebf6f37093904a803e1fd1c8807dc0e23/scipy-1.5.1-cp37-cp37m-macosx_10_9_x86_64.whl (28.7MB)\n",
      "\u001b[K     |████████████████████████████████| 28.7MB 1.8MB/s eta 0:00:01\n",
      "\u001b[?25hCollecting pandas!=1.0.0,!=1.0.1,!=1.0.2,>=0.25.3 (from sweetviz)\n",
      "\u001b[?25l  Downloading https://files.pythonhosted.org/packages/5d/24/91ad2da4a1da2747595d2f47f858a131036f598fb495ec6346d08d8b8df6/pandas-1.0.5-cp37-cp37m-macosx_10_9_x86_64.whl (10.0MB)\n",
      "\u001b[K     |████████████████████████████████| 10.0MB 6.7MB/s eta 0:00:01    |████████████████▌               | 5.2MB 5.3MB/s eta 0:00:01\n",
      "\u001b[?25hRequirement already satisfied: MarkupSafe>=0.23 in /Users/harmeetkaur/opt/anaconda3/lib/python3.7/site-packages (from jinja2>=2.11.1->sweetviz) (1.1.1)\n",
      "Requirement already satisfied: cycler>=0.10 in /Users/harmeetkaur/opt/anaconda3/lib/python3.7/site-packages (from matplotlib>=3.1.3->sweetviz) (0.10.0)\n",
      "Requirement already satisfied: pyparsing!=2.0.4,!=2.1.2,!=2.1.6,>=2.0.1 in /Users/harmeetkaur/opt/anaconda3/lib/python3.7/site-packages (from matplotlib>=3.1.3->sweetviz) (2.4.2)\n",
      "Requirement already satisfied: python-dateutil>=2.1 in /Users/harmeetkaur/opt/anaconda3/lib/python3.7/site-packages (from matplotlib>=3.1.3->sweetviz) (2.8.1)\n",
      "Requirement already satisfied: kiwisolver>=1.0.1 in /Users/harmeetkaur/opt/anaconda3/lib/python3.7/site-packages (from matplotlib>=3.1.3->sweetviz) (1.1.0)\n",
      "Requirement already satisfied: zipp>=0.4; python_version < \"3.8\" in /Users/harmeetkaur/opt/anaconda3/lib/python3.7/site-packages (from importlib-resources>=1.2.0->sweetviz) (0.6.0)\n",
      "Requirement already satisfied: pytz>=2017.2 in /Users/harmeetkaur/opt/anaconda3/lib/python3.7/site-packages (from pandas!=1.0.0,!=1.0.1,!=1.0.2,>=0.25.3->sweetviz) (2019.3)\n",
      "Requirement already satisfied: six in /Users/harmeetkaur/opt/anaconda3/lib/python3.7/site-packages (from cycler>=0.10->matplotlib>=3.1.3->sweetviz) (1.15.0)\n",
      "Requirement already satisfied: setuptools in /Users/harmeetkaur/opt/anaconda3/lib/python3.7/site-packages (from kiwisolver>=1.0.1->matplotlib>=3.1.3->sweetviz) (41.4.0)\n",
      "Requirement already satisfied: more-itertools in /Users/harmeetkaur/opt/anaconda3/lib/python3.7/site-packages (from zipp>=0.4; python_version < \"3.8\"->importlib-resources>=1.2.0->sweetviz) (7.2.0)\n",
      "Installing collected packages: jinja2, tqdm, importlib-resources, scipy, pandas, sweetviz\n",
      "  Found existing installation: Jinja2 2.10.3\n",
      "    Uninstalling Jinja2-2.10.3:\n",
      "      Successfully uninstalled Jinja2-2.10.3\n",
      "  Found existing installation: tqdm 4.36.1\n",
      "    Uninstalling tqdm-4.36.1:\n",
      "      Successfully uninstalled tqdm-4.36.1\n",
      "  Found existing installation: scipy 1.3.1\n",
      "    Uninstalling scipy-1.3.1:\n",
      "      Successfully uninstalled scipy-1.3.1\n",
      "  Found existing installation: pandas 0.25.1\n",
      "    Uninstalling pandas-0.25.1:\n",
      "      Successfully uninstalled pandas-0.25.1\n",
      "Successfully installed importlib-resources-3.0.0 jinja2-2.11.2 pandas-1.0.5 scipy-1.5.1 sweetviz-1.0a8 tqdm-4.48.0\n",
      "Note: you may need to restart the kernel to use updated packages.\n"
     ]
    }
   ],
   "source": [
    "pip install sweetviz"
   ]
  },
  {
   "cell_type": "code",
   "execution_count": 1,
   "metadata": {},
   "outputs": [
    {
     "data": {
      "text/html": [
       "<div>\n",
       "<style scoped>\n",
       "    .dataframe tbody tr th:only-of-type {\n",
       "        vertical-align: middle;\n",
       "    }\n",
       "\n",
       "    .dataframe tbody tr th {\n",
       "        vertical-align: top;\n",
       "    }\n",
       "\n",
       "    .dataframe thead th {\n",
       "        text-align: right;\n",
       "    }\n",
       "</style>\n",
       "<table border=\"1\" class=\"dataframe\">\n",
       "  <thead>\n",
       "    <tr style=\"text-align: right;\">\n",
       "      <th></th>\n",
       "      <th>Age</th>\n",
       "      <th>Sex</th>\n",
       "      <th>BP</th>\n",
       "      <th>Cholesterol</th>\n",
       "      <th>Na_to_K</th>\n",
       "      <th>Drug</th>\n",
       "    </tr>\n",
       "  </thead>\n",
       "  <tbody>\n",
       "    <tr>\n",
       "      <th>0</th>\n",
       "      <td>23</td>\n",
       "      <td>F</td>\n",
       "      <td>HIGH</td>\n",
       "      <td>HIGH</td>\n",
       "      <td>25.355</td>\n",
       "      <td>drugY</td>\n",
       "    </tr>\n",
       "    <tr>\n",
       "      <th>1</th>\n",
       "      <td>47</td>\n",
       "      <td>M</td>\n",
       "      <td>LOW</td>\n",
       "      <td>HIGH</td>\n",
       "      <td>13.093</td>\n",
       "      <td>drugC</td>\n",
       "    </tr>\n",
       "    <tr>\n",
       "      <th>2</th>\n",
       "      <td>47</td>\n",
       "      <td>M</td>\n",
       "      <td>LOW</td>\n",
       "      <td>HIGH</td>\n",
       "      <td>10.114</td>\n",
       "      <td>drugC</td>\n",
       "    </tr>\n",
       "    <tr>\n",
       "      <th>3</th>\n",
       "      <td>28</td>\n",
       "      <td>F</td>\n",
       "      <td>NORMAL</td>\n",
       "      <td>HIGH</td>\n",
       "      <td>7.798</td>\n",
       "      <td>drugX</td>\n",
       "    </tr>\n",
       "    <tr>\n",
       "      <th>4</th>\n",
       "      <td>61</td>\n",
       "      <td>F</td>\n",
       "      <td>LOW</td>\n",
       "      <td>HIGH</td>\n",
       "      <td>18.043</td>\n",
       "      <td>drugY</td>\n",
       "    </tr>\n",
       "    <tr>\n",
       "      <th>...</th>\n",
       "      <td>...</td>\n",
       "      <td>...</td>\n",
       "      <td>...</td>\n",
       "      <td>...</td>\n",
       "      <td>...</td>\n",
       "      <td>...</td>\n",
       "    </tr>\n",
       "    <tr>\n",
       "      <th>195</th>\n",
       "      <td>56</td>\n",
       "      <td>F</td>\n",
       "      <td>LOW</td>\n",
       "      <td>HIGH</td>\n",
       "      <td>11.567</td>\n",
       "      <td>drugC</td>\n",
       "    </tr>\n",
       "    <tr>\n",
       "      <th>196</th>\n",
       "      <td>16</td>\n",
       "      <td>M</td>\n",
       "      <td>LOW</td>\n",
       "      <td>HIGH</td>\n",
       "      <td>12.006</td>\n",
       "      <td>drugC</td>\n",
       "    </tr>\n",
       "    <tr>\n",
       "      <th>197</th>\n",
       "      <td>52</td>\n",
       "      <td>M</td>\n",
       "      <td>NORMAL</td>\n",
       "      <td>HIGH</td>\n",
       "      <td>9.894</td>\n",
       "      <td>drugX</td>\n",
       "    </tr>\n",
       "    <tr>\n",
       "      <th>198</th>\n",
       "      <td>23</td>\n",
       "      <td>M</td>\n",
       "      <td>NORMAL</td>\n",
       "      <td>NORMAL</td>\n",
       "      <td>14.020</td>\n",
       "      <td>drugX</td>\n",
       "    </tr>\n",
       "    <tr>\n",
       "      <th>199</th>\n",
       "      <td>40</td>\n",
       "      <td>F</td>\n",
       "      <td>LOW</td>\n",
       "      <td>NORMAL</td>\n",
       "      <td>11.349</td>\n",
       "      <td>drugX</td>\n",
       "    </tr>\n",
       "  </tbody>\n",
       "</table>\n",
       "<p>200 rows × 6 columns</p>\n",
       "</div>"
      ],
      "text/plain": [
       "     Age Sex      BP Cholesterol  Na_to_K   Drug\n",
       "0     23   F    HIGH        HIGH   25.355  drugY\n",
       "1     47   M     LOW        HIGH   13.093  drugC\n",
       "2     47   M     LOW        HIGH   10.114  drugC\n",
       "3     28   F  NORMAL        HIGH    7.798  drugX\n",
       "4     61   F     LOW        HIGH   18.043  drugY\n",
       "..   ...  ..     ...         ...      ...    ...\n",
       "195   56   F     LOW        HIGH   11.567  drugC\n",
       "196   16   M     LOW        HIGH   12.006  drugC\n",
       "197   52   M  NORMAL        HIGH    9.894  drugX\n",
       "198   23   M  NORMAL      NORMAL   14.020  drugX\n",
       "199   40   F     LOW      NORMAL   11.349  drugX\n",
       "\n",
       "[200 rows x 6 columns]"
      ]
     },
     "execution_count": 1,
     "metadata": {},
     "output_type": "execute_result"
    }
   ],
   "source": [
    "import pandas as  pd\n",
    "df = pd.read_csv(r\"/Users/harmeetkaur/Desktop/drug200.csv\")\n",
    "df"
   ]
  },
  {
   "cell_type": "code",
   "execution_count": 5,
   "metadata": {},
   "outputs": [
    {
     "name": "stderr",
     "output_type": "stream",
     "text": [
      ":FEATURES DONE:                    |                     | [  0%]   00:01  -> (00:00 left)\n",
      ":PAIRWISE DONE:                    |█████████████████████| [100%]   00:00  -> (00:00 left)\n"
     ]
    },
    {
     "name": "stdout",
     "output_type": "stream",
     "text": [
      "Creating Associations graph... DONE!\n"
     ]
    }
   ],
   "source": [
    "# import sweetviz library\n",
    "import sweetviz as xx\n",
    "# analyzing the drug study dataset\n",
    "drug_study_report = xx.analyze(df)\n",
    "# display the report in the browser\n",
    "drug_study_report.show_html('Drug_Study.html')"
   ]
  },
  {
   "cell_type": "code",
   "execution_count": 12,
   "metadata": {},
   "outputs": [
    {
     "name": "stderr",
     "output_type": "stream",
     "text": [
      "\n",
      "                                   |                         | [  0%]   00:00  -> (? left)\u001b[A\n",
      "Summarizing dataframe:             |                         | [  0%]   00:00  -> (? left)\u001b[A\n",
      ":Age:                              |██████               | [ 29%]   00:00  -> (00:00 left)\u001b[A\n",
      ":Age:                              |█████████            | [ 43%]   00:00  -> (00:00 left)\u001b[A\n",
      ":Sex:                              |█████████            | [ 43%]   00:00  -> (00:00 left)\u001b[A\n",
      ":Sex:                              |████████████         | [ 57%]   00:00  -> (00:00 left)\u001b[A\n",
      ":BP:                               |████████████         | [ 57%]   00:00  -> (00:00 left)\u001b[A\n",
      ":BP:                               |███████████████      | [ 71%]   00:01  -> (00:00 left)\u001b[A\n",
      ":Cholesterol:                      |███████████████      | [ 71%]   00:01  -> (00:00 left)\u001b[A\n",
      ":Cholesterol:                      |██████████████████   | [ 86%]   00:01  -> (00:00 left)\u001b[A\n",
      ":Na_to_K:                          |██████████████████   | [ 86%]   00:01  -> (00:00 left)\u001b[A\n",
      ":Na_to_K:                          |█████████████████████| [100%]   00:01  -> (00:00 left)\u001b[A\n",
      ":Drug:                             |█████████████████████| [100%]   00:01  -> (00:00 left)\u001b[A\n",
      ":Drug:                             |                     | [  0%]   00:01  -> (00:00 left)\u001b[A\n",
      ":FEATURES DONE:                    |                     | [  0%]   00:01  -> (00:00 left)\u001b[A\n",
      "\n",
      "                                   |                         | [  0%]   00:00  -> (? left)\u001b[A\n",
      ":Processing Pairwise Features:     |                         | [  0%]   00:00  -> (? left)\u001b[A\n",
      ":PAIRWISE DONE:                    |█████████████████████| [100%]   00:00  -> (00:00 left)\u001b[A\n"
     ]
    },
    {
     "name": "stdout",
     "output_type": "stream",
     "text": [
      "Creating Associations graph... DONE!\n"
     ]
    }
   ],
   "source": [
    "df1 = xx.compare(df[150:], df[:50])\n",
    "df1.show_html('Comparitive_drug_study.html')"
   ]
  },
  {
   "cell_type": "code",
   "execution_count": 17,
   "metadata": {},
   "outputs": [
    {
     "name": "stderr",
     "output_type": "stream",
     "text": [
      "\n",
      "                                   |                         | [  0%]   00:00  -> (? left)\u001b[A\n",
      "Summarizing dataframe:             |                         | [  0%]   00:00  -> (? left)\u001b[A\n",
      ":Age:                              |██████               | [ 29%]   00:00  -> (00:00 left)\u001b[A\n",
      ":Age:                              |█████████            | [ 43%]   00:00  -> (00:00 left)\u001b[A\n",
      ":Sex:                              |█████████            | [ 43%]   00:00  -> (00:00 left)\u001b[A\n",
      ":Sex:                              |████████████         | [ 57%]   00:01  -> (00:00 left)\u001b[A\n",
      ":BP:                               |████████████         | [ 57%]   00:01  -> (00:00 left)\u001b[A\n",
      ":BP:                               |███████████████      | [ 71%]   00:01  -> (00:00 left)\u001b[A\n",
      ":Cholesterol:                      |███████████████      | [ 71%]   00:01  -> (00:00 left)\u001b[A\n",
      ":Cholesterol:                      |██████████████████   | [ 86%]   00:01  -> (00:00 left)\u001b[A\n",
      ":Na_to_K:                          |██████████████████   | [ 86%]   00:01  -> (00:00 left)\u001b[A\n",
      ":Na_to_K:                          |█████████████████████| [100%]   00:01  -> (00:00 left)\u001b[A\n",
      ":Drug:                             |█████████████████████| [100%]   00:01  -> (00:00 left)\u001b[A\n",
      ":Drug:                             |                     | [  0%]   00:01  -> (00:00 left)\u001b[A\n",
      ":FEATURES DONE:                    |                     | [  0%]   00:02  -> (00:00 left)\u001b[A\n",
      "\n",
      "                                   |                         | [  0%]   00:00  -> (? left)\u001b[A\n",
      ":Processing Pairwise Features:     |                         | [  0%]   00:00  -> (? left)\u001b[A\n",
      ":PAIRWISE DONE:                    |█████████████████████| [100%]   00:00  -> (00:00 left)\u001b[A\n"
     ]
    },
    {
     "name": "stdout",
     "output_type": "stream",
     "text": [
      "Creating Associations graph... DONE!\n"
     ]
    }
   ],
   "source": [
    "my_report = xx.compare_intra(df, df[\"Sex\"] == 'M', [\"M\", \"F\"])\n",
    "my_report.show_html()"
   ]
  },
  {
   "cell_type": "code",
   "execution_count": null,
   "metadata": {},
   "outputs": [],
   "source": []
  }
 ],
 "metadata": {
  "kernelspec": {
   "display_name": "Python 3",
   "language": "python",
   "name": "python3"
  },
  "language_info": {
   "codemirror_mode": {
    "name": "ipython",
    "version": 3
   },
   "file_extension": ".py",
   "mimetype": "text/x-python",
   "name": "python",
   "nbconvert_exporter": "python",
   "pygments_lexer": "ipython3",
   "version": "3.7.4"
  }
 },
 "nbformat": 4,
 "nbformat_minor": 2
}
